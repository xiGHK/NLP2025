{
 "cells": [
  {
   "cell_type": "code",
   "execution_count": 1,
   "id": "1ac2fa2e-9ac5-4536-ad9e-af7b5e780f17",
   "metadata": {},
   "outputs": [],
   "source": [
    "# ==== Part 3.2: TextCNN for Topic Classification ====\n",
    "import time, copy, random, math\n",
    "from collections import Counter, defaultdict\n",
    "import numpy as np\n",
    "import torch\n",
    "import torch.nn as nn\n",
    "import torch.optim as optim\n",
    "from torchtext import data\n",
    "import matplotlib.pyplot as plt\n",
    "from torchtext import data, datasets"
   ]
  },
  {
   "cell_type": "code",
   "execution_count": 2,
   "id": "09984db7-4efc-49a9-9962-c095c3b85c2b",
   "metadata": {},
   "outputs": [
    {
     "name": "stdout",
     "output_type": "stream",
     "text": [
      "[Info] Device: cpu\n"
     ]
    }
   ],
   "source": [
    "SEED = 42\n",
    "random.seed(SEED); np.random.seed(SEED)\n",
    "torch.manual_seed(SEED); torch.cuda.manual_seed_all(SEED)\n",
    "device = torch.device(\"cuda\" if torch.cuda.is_available() else \"cpu\")\n",
    "print(\"[Info] Device:\", device)"
   ]
  },
  {
   "cell_type": "code",
   "execution_count": 3,
   "id": "32bc73c6-33b0-4bcf-a5e0-9bc371d352f3",
   "metadata": {},
   "outputs": [],
   "source": [
    "# -----------------------\n",
    "# Config\n",
    "# -----------------------\n",
    "CFG = {\n",
    "    \"epochs\": 20,\n",
    "    \"batch_size\": 64,\n",
    "    \"lr\": 1e-3,\n",
    "    \"weight_decay\": 1e-5,    # L2 regularization\n",
    "    \"dropout\": 0.5,\n",
    "    \"n_filters\": 100,        # per kernel size\n",
    "    \"filter_sizes\": [3, 4, 5],\n",
    "    \"early_stopping\": True,\n",
    "    \"patience\": 4,\n",
    "    \"warmup_freeze_emb\": 0,  # set >0 to freeze embeddings for first N epochs\n",
    "}"
   ]
  },
  {
   "cell_type": "code",
   "execution_count": 4,
   "id": "9211d203-fd22-4f24-b410-62da25d78570",
   "metadata": {},
   "outputs": [
    {
     "name": "stdout",
     "output_type": "stream",
     "text": [
      "\n",
      "============================================================\n",
      "LOADING TREC DATASET\n",
      "============================================================\n",
      "\n",
      "Dataset loaded successfully!\n",
      "Number of training examples: 5452\n",
      "Number of test examples: 500\n",
      "\n",
      "Example training instance:\n",
      "Text: how did serfdom develop in and then leave russia ?\n",
      "Label: DESC\n"
     ]
    }
   ],
   "source": [
    "# ========================================\n",
    "# LOAD DATASET\n",
    "# ========================================\n",
    "print(\"\\n\" + \"=\"*60)\n",
    "print(\"LOADING TREC DATASET\")\n",
    "print(\"=\"*60)\n",
    "\n",
    "# Define fields\n",
    "TEXT = data.Field(\n",
    "    tokenize='spacy',\n",
    "    tokenizer_language='en_core_web_sm',\n",
    "    include_lengths=True,\n",
    "    lower=True\n",
    ")\n",
    "\n",
    "LABEL = data.LabelField()\n",
    "\n",
    "# Load TREC dataset\n",
    "train_data, test_data = datasets.TREC.splits(TEXT, LABEL, fine_grained=False)\n",
    "\n",
    "print(f\"\\nDataset loaded successfully!\")\n",
    "print(f\"Number of training examples: {len(train_data)}\")\n",
    "print(f\"Number of test examples: {len(test_data)}\")\n",
    "\n",
    "# Show example\n",
    "print(\"\\nExample training instance:\")\n",
    "print(f\"Text: {' '.join(train_data.examples[0].text)}\")\n",
    "print(f\"Label: {train_data.examples[0].label}\")"
   ]
  },
  {
   "cell_type": "code",
   "execution_count": 5,
   "id": "e97865d3-6066-4a8e-8bb4-67a9ee6357f5",
   "metadata": {},
   "outputs": [
    {
     "name": "stdout",
     "output_type": "stream",
     "text": [
      "\n",
      "After split:\n",
      "Train set: 4362 examples\n",
      "Validation set: 1090 examples\n",
      "Test set: 500 examples\n"
     ]
    }
   ],
   "source": [
    "# ========================================\n",
    "# SPLIT TRAIN INTO TRAIN/VALIDATION (80/20)\n",
    "# ========================================\n",
    "import random\n",
    "random.seed(SEED)\n",
    "\n",
    "train_data, val_data = train_data.split(split_ratio=0.8, random_state=random.seed(SEED))\n",
    "\n",
    "print(f\"\\nAfter split:\")\n",
    "print(f\"Train set: {len(train_data)} examples\")\n",
    "print(f\"Validation set: {len(val_data)} examples\")\n",
    "print(f\"Test set: {len(test_data)} examples\")"
   ]
  },
  {
   "cell_type": "code",
   "execution_count": 6,
   "id": "e5145469-5084-4d2a-99da-45a55407e190",
   "metadata": {},
   "outputs": [
    {
     "name": "stdout",
     "output_type": "stream",
     "text": [
      "[Info] Loading: ./vocabs_both.pt and ./enhanced_embeddings.pt\n"
     ]
    }
   ],
   "source": [
    "# -----------------------\n",
    "# Load saved vocab & enhanced embeddings (from Part 1)\n",
    "# -----------------------\n",
    "VOCAB_PATH = \"./vocabs_both.pt\"          \n",
    "EMB_PATH   = \"./enhanced_embeddings.pt\"  \n",
    "\n",
    "print(\"[Info] Loading:\", VOCAB_PATH, \"and\", EMB_PATH)\n",
    "vocabs = torch.load(\"./vocabs_both.pt\", map_location=\"cpu\", weights_only=False)\n",
    "text_itos = vocabs[\"text_vocab\"][\"itos\"]\n",
    "text_stoi = vocabs[\"text_vocab\"][\"stoi\"]\n",
    "label_itos = vocabs[\"label_vocab\"][\"itos\"]\n",
    "label_stoi = vocabs[\"label_vocab\"][\"stoi\"]\n",
    "\n",
    "emb = torch.load(EMB_PATH, map_location=\"cpu\")"
   ]
  },
  {
   "cell_type": "code",
   "execution_count": 7,
   "id": "44631f5d-6422-4067-afd1-747871308df0",
   "metadata": {},
   "outputs": [],
   "source": [
    "from torchtext.vocab import Vocab\n",
    "\n",
    "# (1) Activate TEXT.vocab with your saved mapping\n",
    "txt_cnt = Counter({tok: 1 for tok in text_itos})\n",
    "# Preserve specials if your Field uses them\n",
    "specials = []\n",
    "for s in [getattr(TEXT, \"unk_token\", \"<unk>\"),\n",
    "          getattr(TEXT, \"pad_token\", \"<pad>\"),\n",
    "          getattr(TEXT, \"init_token\", None),\n",
    "          getattr(TEXT, \"eos_token\", None)]:\n",
    "    if s and s in text_stoi:\n",
    "        specials.append(s)\n",
    "\n",
    "TEXT.vocab = Vocab(txt_cnt, specials=specials)\n",
    "TEXT.vocab.itos = list(text_itos)\n",
    "TEXT.vocab.stoi = dict(text_stoi)"
   ]
  },
  {
   "cell_type": "code",
   "execution_count": 8,
   "id": "50c6b230-76cd-4032-9a82-4d94e3d7d4b6",
   "metadata": {},
   "outputs": [
    {
     "name": "stdout",
     "output_type": "stream",
     "text": [
      "[OK] Activated vocabs | tokens=7435, labels=6, emb_dim=300\n"
     ]
    }
   ],
   "source": [
    "TEXT.vocab.vectors = emb.clone()\n",
    "\n",
    "# (2) Activate LABEL.vocab with your saved mapping\n",
    "lab_cnt = Counter({tok: 1 for tok in label_itos})\n",
    "LABEL.vocab = Vocab(lab_cnt, specials=[])  # label field usually has no specials\n",
    "LABEL.vocab.itos = list(label_itos)\n",
    "LABEL.vocab.stoi = dict(label_stoi)\n",
    "\n",
    "# (3) Recompute sizes/indices used by the model\n",
    "INPUT_DIM = len(TEXT.vocab)\n",
    "EMBED_DIM = TEXT.vocab.vectors.size(1) # if hasattr(TEXT.vocab, \"vectors\") else 300\n",
    "PAD_IDX   = TEXT.vocab.stoi.get(getattr(TEXT, \"pad_token\", \"<pad>\"), 1)\n",
    "UNK_IDX = getattr(TEXT, \"unk_token\", \"<unk>\")\n",
    "base = dict(TEXT.vocab.stoi)\n",
    "TEXT.vocab.stoi = defaultdict(lambda: base[UNK_IDX], base)\n",
    "N_CLASSES = len(LABEL.vocab)\n",
    "\n",
    "print(f\"[OK] Activated vocabs | tokens={INPUT_DIM}, labels={N_CLASSES}, emb_dim={EMBED_DIM}\")"
   ]
  },
  {
   "cell_type": "code",
   "execution_count": 9,
   "id": "385babe4-a4f8-4a6c-be79-9ab8008473cb",
   "metadata": {},
   "outputs": [
    {
     "name": "stdout",
     "output_type": "stream",
     "text": [
      "[OK] Built BucketIterators.\n"
     ]
    }
   ],
   "source": [
    "# -----------------------\n",
    "# Iterators\n",
    "# -----------------------\n",
    "BATCH_SIZE = CFG[\"batch_size\"]\n",
    "train_iter, valid_iter, test_iter = data.BucketIterator.splits(\n",
    "    (train_data, val_data, test_data),\n",
    "    batch_size=BATCH_SIZE,\n",
    "    sort_within_batch=True,\n",
    "    sort_key=lambda ex: len(ex.text),\n",
    "    device=device\n",
    ")\n",
    "print(\"[OK] Built BucketIterators.\")"
   ]
  },
  {
   "cell_type": "code",
   "execution_count": 10,
   "id": "0d993546-0ba8-407b-91a9-d596a826d941",
   "metadata": {},
   "outputs": [],
   "source": [
    "# -----------------------\n",
    "# Model: TextCNN\n",
    "# -----------------------\n",
    "class TextCNN(nn.Module):\n",
    "    def __init__(self, vocab_size, embed_dim, n_classes, pad_idx,\n",
    "                 n_filters=100, filter_sizes=(3,4,5), dropout=0.5, vectors=None, train_embeddings=True):\n",
    "        super().__init__()\n",
    "        self.embedding = nn.Embedding(vocab_size, embed_dim, padding_idx=pad_idx)\n",
    "        if vectors is not None:\n",
    "            self.embedding.weight.data.copy_(vectors)\n",
    "        self.embedding.weight.requires_grad = train_embeddings\n",
    "\n",
    "        # NOTE: add padding=fs//2 so kernels fit even on very short sequences\n",
    "        self.convs = nn.ModuleList([\n",
    "            nn.Conv1d(in_channels=embed_dim,\n",
    "                      out_channels=n_filters,\n",
    "                      kernel_size=fs,\n",
    "                      padding=fs // 2)\n",
    "            for fs in filter_sizes\n",
    "        ])\n",
    "        self.dropout = nn.Dropout(dropout)\n",
    "        self.fc = nn.Linear(n_filters * len(filter_sizes), n_classes)\n",
    "\n",
    "    def forward(self, text, text_lengths=None):\n",
    "        if isinstance(text, (tuple, list)):  # safety if called with (text, lengths)\n",
    "            text = text[0]\n",
    "        embedded = self.embedding(text)        # [seq_len, batch, emb]\n",
    "        embedded = embedded.permute(1, 2, 0)   # [batch, emb, seq_len]\n",
    "        conved  = [torch.relu(conv(embedded)) for conv in self.convs]\n",
    "        pooled  = [torch.max(c, dim=2).values for c in conved]  # global max over time\n",
    "        cat     = torch.cat(pooled, dim=1)\n",
    "        return self.fc(self.dropout(cat))"
   ]
  },
  {
   "cell_type": "code",
   "execution_count": 11,
   "id": "3bd34df8-ff52-46a8-a234-222a054e5681",
   "metadata": {},
   "outputs": [
    {
     "name": "stdout",
     "output_type": "stream",
     "text": [
      "TextCNN(\n",
      "  (embedding): Embedding(7435, 300, padding_idx=1)\n",
      "  (convs): ModuleList(\n",
      "    (0): Conv1d(300, 100, kernel_size=(3,), stride=(1,), padding=(1,))\n",
      "    (1): Conv1d(300, 100, kernel_size=(4,), stride=(1,), padding=(2,))\n",
      "    (2): Conv1d(300, 100, kernel_size=(5,), stride=(1,), padding=(2,))\n",
      "  )\n",
      "  (dropout): Dropout(p=0.5, inplace=False)\n",
      "  (fc): Linear(in_features=300, out_features=6, bias=True)\n",
      ")\n"
     ]
    }
   ],
   "source": [
    "# Instantiate\n",
    "N_CLASSES = len(LABEL.vocab)\n",
    "vectors = TEXT.vocab.vectors.to(device)\n",
    "model = TextCNN(\n",
    "    vocab_size=INPUT_DIM,\n",
    "    embed_dim=EMBED_DIM,\n",
    "    n_classes=N_CLASSES,\n",
    "    pad_idx=PAD_IDX,\n",
    "    n_filters=CFG[\"n_filters\"],\n",
    "    filter_sizes=tuple(CFG[\"filter_sizes\"]),\n",
    "    dropout=CFG[\"dropout\"],\n",
    "    vectors=vectors,\n",
    "    train_embeddings=True\n",
    ").to(device)\n",
    "\n",
    "print(model)\n",
    "\n",
    "# Keep PAD row zero (stability)\n",
    "with torch.no_grad():\n",
    "    model.embedding.weight[PAD_IDX].fill_(0.0)\n",
    "\n",
    "criterion = nn.CrossEntropyLoss().to(device)\n",
    "optimizer = optim.Adam(model.parameters(), lr=CFG[\"lr\"], weight_decay=CFG[\"weight_decay\"])"
   ]
  },
  {
   "cell_type": "code",
   "execution_count": 12,
   "id": "7404beea-3dd0-4f87-9d1e-51c2da67ec02",
   "metadata": {},
   "outputs": [
    {
     "name": "stdout",
     "output_type": "stream",
     "text": [
      "[CNN] Epoch 01 | 0m 0s | train_loss=1.1123 | train_acc=0.5773 | val_acc=0.7613\n",
      "[CNN] Epoch 02 | 0m 0s | train_loss=0.5052 | train_acc=0.8342 | val_acc=0.8446\n",
      "[CNN] Epoch 03 | 0m 0s | train_loss=0.2927 | train_acc=0.9067 | val_acc=0.8403\n",
      "[CNN] Epoch 04 | 0m 0s | train_loss=0.1772 | train_acc=0.9497 | val_acc=0.8767\n",
      "[CNN] Epoch 05 | 0m 0s | train_loss=0.0965 | train_acc=0.9787 | val_acc=0.8507\n",
      "[CNN] Epoch 06 | 0m 0s | train_loss=0.0608 | train_acc=0.9882 | val_acc=0.8845\n",
      "[CNN] Epoch 07 | 0m 0s | train_loss=0.0382 | train_acc=0.9939 | val_acc=0.8950\n",
      "[CNN] Epoch 08 | 0m 0s | train_loss=0.0254 | train_acc=0.9975 | val_acc=0.8611\n",
      "[CNN] Epoch 09 | 0m 0s | train_loss=0.0180 | train_acc=0.9984 | val_acc=0.8915\n",
      "[CNN] Epoch 10 | 0m 0s | train_loss=0.0134 | train_acc=0.9993 | val_acc=0.8967\n",
      "[CNN] Epoch 11 | 0m 0s | train_loss=0.0125 | train_acc=0.9982 | val_acc=0.8958\n",
      "[CNN] Epoch 12 | 0m 0s | train_loss=0.0090 | train_acc=0.9998 | val_acc=0.8993\n",
      "[CNN] Epoch 13 | 0m 0s | train_loss=0.0080 | train_acc=0.9993 | val_acc=0.8950\n",
      "[CNN] Epoch 14 | 0m 0s | train_loss=0.0067 | train_acc=0.9995 | val_acc=0.8958\n",
      "[CNN] Epoch 15 | 0m 0s | train_loss=0.0053 | train_acc=0.9995 | val_acc=0.8941\n",
      "[CNN] Epoch 16 | 0m 0s | train_loss=0.0066 | train_acc=0.9991 | val_acc=0.8950\n",
      "[CNN] Early stopping triggered (patience=4).\n",
      "[OK] Loaded best model (val_acc=0.8993).\n"
     ]
    }
   ],
   "source": [
    "# -----------------------\n",
    "# Training / evaluation\n",
    "# -----------------------\n",
    "def categorical_accuracy(logits, y):\n",
    "    preds = logits.argmax(1)\n",
    "    return (preds == y).float().mean().item()\n",
    "\n",
    "def run_epoch(model, iterator, optimizer=None):\n",
    "    is_train = optimizer is not None\n",
    "    model.train() if is_train else model.eval()\n",
    "\n",
    "    tot_loss, tot_acc, n_batches = 0.0, 0.0, 0\n",
    "    for batch in iterator:\n",
    "        # torchtext legacy: batch.text is (text, lengths) if include_lengths=True\n",
    "        if isinstance(batch.text, tuple) or isinstance(batch.text, list):\n",
    "            text, text_lengths = batch.text\n",
    "        else:\n",
    "            text, text_lengths = batch.text, None\n",
    "        y = batch.label\n",
    "\n",
    "        if is_train:\n",
    "            optimizer.zero_grad()\n",
    "        logits = model(text, text_lengths)\n",
    "        loss = criterion(logits, y)\n",
    "        acc = categorical_accuracy(logits, y)\n",
    "\n",
    "        if is_train:\n",
    "            loss.backward()\n",
    "            nn.utils.clip_grad_norm_(model.parameters(), max_norm=5.0)\n",
    "            optimizer.step()\n",
    "\n",
    "        tot_loss += loss.item(); tot_acc += acc; n_batches += 1\n",
    "\n",
    "    return tot_loss / max(n_batches,1), tot_acc / max(n_batches,1)\n",
    "\n",
    "history = {\"train_loss\": [], \"valid_acc\": []}\n",
    "best_state = None\n",
    "best_val_acc = -1.0\n",
    "epochs_no_improve = 0\n",
    "\n",
    "# Optional warmup freeze\n",
    "if CFG[\"warmup_freeze_emb\"] > 0:\n",
    "    for p in model.embedding.parameters():\n",
    "        p.requires_grad = False\n",
    "    print(f\"[Info] Freezing embeddings for the first {CFG['warmup_freeze_emb']} epoch(s).\")\n",
    "\n",
    "import json\n",
    "LAST_PATH = \"./models/cnn_textclf_last.pt\"\n",
    "BEST_PATH = \"./models/cnn_textclf_best.pt\"\n",
    "META_PATH = \"./models/cnn_textclf_meta.json\"\n",
    "LABEL_PATH = \"./models/label_vocab.pt\"\n",
    "\n",
    "for epoch in range(1, CFG[\"epochs\"] + 1):\n",
    "    start = time.time()\n",
    "\n",
    "    # Unfreeze after warmup\n",
    "    if CFG[\"warmup_freeze_emb\"] > 0 and epoch == CFG[\"warmup_freeze_emb\"] + 1:\n",
    "        for p in model.embedding.parameters():\n",
    "            p.requires_grad = True\n",
    "        print(\"[Info] Unfroze embeddings.\")\n",
    "\n",
    "    tr_loss, tr_acc = run_epoch(model, train_iter, optimizer=optimizer)\n",
    "    va_loss, va_acc = run_epoch(model, valid_iter, optimizer=None)\n",
    "\n",
    "    history[\"train_loss\"].append(tr_loss)\n",
    "    history[\"valid_acc\"].append(va_acc)\n",
    "\n",
    "    # Save best weights\n",
    "    torch.save({\"state_dict\": model.state_dict()}, LAST_PATH)\n",
    "    \n",
    "    if va_acc > best_val_acc:\n",
    "        best_val_acc = va_acc\n",
    "        best_state = copy.deepcopy(model.state_dict())\n",
    "        torch.save({\"state_dict\": model.state_dict()}, BEST_PATH)\n",
    "        epochs_no_improve = 0\n",
    "    else:\n",
    "        epochs_no_improve += 1\n",
    "\n",
    "    m = int(time.time() - start) // 60\n",
    "    s = int(time.time() - start) % 60\n",
    "    print(f\"[CNN] Epoch {epoch:02d} | {m}m {s}s | train_loss={tr_loss:.4f} | train_acc={tr_acc:.4f} | val_acc={va_acc:.4f}\")\n",
    "\n",
    "    if CFG[\"early_stopping\"] and epochs_no_improve >= CFG[\"patience\"]:\n",
    "        print(f\"[CNN] Early stopping triggered (patience={CFG['patience']}).\")\n",
    "        break\n",
    "\n",
    "if best_state is not None:\n",
    "    model.load_state_dict(best_state)\n",
    "    print(f\"[OK] Loaded best model (val_acc={best_val_acc:.4f}).\")"
   ]
  },
  {
   "cell_type": "code",
   "execution_count": 13,
   "id": "853316af-00fa-4ae2-a681-9f202acb0773",
   "metadata": {},
   "outputs": [
    {
     "data": {
      "image/png": "[encoded data removed]",
      "text/plain": [
       "<Figure size 640x480 with 1 Axes>"
      ]
     },
     "metadata": {},
     "output_type": "display_data"
    },
    {
     "data": {
      "image/png": "[encoded data removed]",
      "text/plain": [
       "<Figure size 640x480 with 1 Axes>"
      ]
     },
     "metadata": {},
     "output_type": "display_data"
    }
   ],
   "source": [
    "# -----------------------\n",
    "# Curves: Training Loss & Validation Accuracy\n",
    "# -----------------------\n",
    "plt.figure()\n",
    "plt.plot(history[\"train_loss\"])\n",
    "plt.xlabel(\"Epoch\"); plt.ylabel(\"Training Loss\"); plt.title(\"CNN: Training Loss\"); plt.grid(True)\n",
    "\n",
    "plt.figure()\n",
    "plt.plot(history[\"valid_acc\"])\n",
    "plt.xlabel(\"Epoch\"); plt.ylabel(\"Validation Accuracy\"); plt.title(\"CNN: Validation Accuracy\"); plt.grid(True)\n",
    "plt.show()"
   ]
  },
  {
   "cell_type": "code",
   "execution_count": 14,
   "id": "a2df3b78-83ec-471e-afbb-53249f961ef8",
   "metadata": {},
   "outputs": [
    {
     "name": "stdout",
     "output_type": "stream",
     "text": [
      "\n",
      "[CNN] Test Accuracy: 0.9090\n",
      "\n",
      "[CNN] Topic-wise accuracy (TEST):\n",
      "       HUM: n= 65 | correct= 64 | acc=0.985\n",
      "      ENTY: n= 94 | correct= 69 | acc=0.734\n",
      "      DESC: n=138 | correct=137 | acc=0.993\n",
      "       NUM: n=113 | correct=103 | acc=0.912\n",
      "       LOC: n= 81 | correct= 75 | acc=0.926\n",
      "      ABBR: n=  9 | correct=  7 | acc=0.778\n"
     ]
    }
   ],
   "source": [
    "# -----------------------\n",
    "# Test accuracy\n",
    "# -----------------------\n",
    "_, test_acc = run_epoch(model, test_iter, optimizer=None)\n",
    "print(f\"\\n[CNN] Test Accuracy: {test_acc:.4f}\")\n",
    "\n",
    "# -----------------------\n",
    "# Topic-wise accuracy on TEST\n",
    "# -----------------------\n",
    "topic_total = defaultdict(int)\n",
    "topic_correct = defaultdict(int)\n",
    "\n",
    "model.eval()\n",
    "with torch.no_grad():\n",
    "    for batch in test_iter:\n",
    "        if isinstance(batch.text, tuple) or isinstance(batch.text, list):\n",
    "            text, text_lengths = batch.text\n",
    "        else:\n",
    "            text, text_lengths = batch.text, None\n",
    "        y = batch.label\n",
    "        logits = model(text, text_lengths)\n",
    "        preds = logits.argmax(1)\n",
    "\n",
    "        for yi, pi in zip(y.tolist(), preds.tolist()):\n",
    "            topic = LABEL.vocab.itos[yi]\n",
    "            topic_total[topic] += 1\n",
    "            if yi == pi:\n",
    "                topic_correct[topic] += 1\n",
    "\n",
    "print(\"\\n[CNN] Topic-wise accuracy (TEST):\")\n",
    "for topic in LABEL.vocab.itos:\n",
    "    tot = topic_total.get(topic, 0)\n",
    "    cor = topic_correct.get(topic, 0)\n",
    "    acc = (cor / tot) if tot > 0 else float(\"nan\")\n",
    "    print(f\"  {topic:>8}: n={tot:3d} | correct={cor:3d} | acc={acc:.3f}\")"
   ]
  }
 ],
 "metadata": {
  "kernelspec": {
   "display_name": "NLP Environment",
   "language": "python",
   "name": "nlp"
  },
  "language_info": {
   "codemirror_mode": {
    "name": "ipython",
    "version": 3
   },
   "file_extension": ".py",
   "mimetype": "text/x-python",
   "name": "python",
   "nbconvert_exporter": "python",
   "pygments_lexer": "ipython3",
   "version": "3.12.12"
  }
 },
 "nbformat": 4,
 "nbformat_minor": 5
}
